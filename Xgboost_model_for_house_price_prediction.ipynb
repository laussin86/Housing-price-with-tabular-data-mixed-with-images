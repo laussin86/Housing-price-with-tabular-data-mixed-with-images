{
  "nbformat": 4,
  "nbformat_minor": 0,
  "metadata": {
    "colab": {
      "provenance": [],
      "mount_file_id": "1SbUPnuGAiIr1pd9_RHSsGQZzRlaoTpeN",
      "authorship_tag": "ABX9TyNgIM6MMxx9TxN9ErE5p9KS",
      "include_colab_link": true
    },
    "kernelspec": {
      "name": "python3",
      "display_name": "Python 3"
    },
    "language_info": {
      "name": "python"
    }
  },
  "cells": [
    {
      "cell_type": "markdown",
      "metadata": {
        "id": "view-in-github",
        "colab_type": "text"
      },
      "source": [
        "<a href=\"https://colab.research.google.com/github/laussin86/my-project/blob/main/Xgboost_model_for_house_price_prediction.ipynb\" target=\"_parent\"><img src=\"https://colab.research.google.com/assets/colab-badge.svg\" alt=\"Open In Colab\"/></a>"
      ]
    },
    {
      "cell_type": "code",
      "execution_count": 42,
      "metadata": {
        "id": "OqkScZI1EX1p"
      },
      "outputs": [],
      "source": [
        "import numpy as np\n",
        "import pandas as pd\n",
        "import seaborn as sn\n",
        "import seaborn as sns\n",
        "from xgboost import XGBRegressor\n",
        "from sklearn.model_selection import cross_val_score,KFold \n",
        "from sklearn.preprocessing import StandardScaler\n",
        "from sklearn import metrics\n",
        "from sklearn import preprocessing\n",
        "from sklearn.metrics import mean_absolute_error\n",
        "from sklearn.model_selection import train_test_split\n",
        "import matplotlib\n",
        "import matplotlib.pyplot as plt\n",
        "from sklearn.model_selection import RandomizedSearchCV"
      ]
    },
    {
      "cell_type": "code",
      "source": [
        "# Load the data\n",
        "from google.colab import drive\n",
        "drive.mount('/content/drive')\n",
        "df = pd.read_csv('/content/drive/MyDrive/Jean-Marc Koffi-kouakou/1-28-23 redfin/houses.csv')\n"
      ],
      "metadata": {
        "colab": {
          "base_uri": "https://localhost:8080/"
        },
        "id": "Zewx48HVEjGp",
        "outputId": "af65a3a5-c6f8-40fe-e567-bcfc335aa4c6"
      },
      "execution_count": 2,
      "outputs": [
        {
          "output_type": "stream",
          "name": "stdout",
          "text": [
            "Drive already mounted at /content/drive; to attempt to forcibly remount, call drive.mount(\"/content/drive\", force_remount=True).\n"
          ]
        }
      ]
    },
    {
      "cell_type": "code",
      "source": [
        "# Check the datatypes of the attributes.\n",
        "print(df.dtypes)"
      ],
      "metadata": {
        "colab": {
          "base_uri": "https://localhost:8080/"
        },
        "id": "8Jrtk-CHFk4Z",
        "outputId": "45007139-2a13-4cb5-de0b-f31a9fc368bd"
      },
      "execution_count": 3,
      "outputs": [
        {
          "output_type": "stream",
          "name": "stdout",
          "text": [
            "url                object\n",
            "price               int64\n",
            "bed               float64\n",
            "bath              float64\n",
            "sqft              float64\n",
            "address            object\n",
            "city               object\n",
            "type               object\n",
            "year_built        float64\n",
            "est_price           int64\n",
            "price_per_sqft    float64\n",
            "dtype: object\n"
          ]
        }
      ]
    },
    {
      "cell_type": "code",
      "source": [
        "print(df.shape)\n",
        "display(df.head())"
      ],
      "metadata": {
        "colab": {
          "base_uri": "https://localhost:8080/",
          "height": 355
        },
        "id": "kGiCMORRK9fJ",
        "outputId": "5d8641d3-9870-4083-c58c-6117628a2d0a"
      },
      "execution_count": 4,
      "outputs": [
        {
          "output_type": "stream",
          "name": "stdout",
          "text": [
            "(239, 11)\n"
          ]
        },
        {
          "output_type": "display_data",
          "data": {
            "text/plain": [
              "                                                 url   price  bed  bath  \\\n",
              "0  https://www.redfin.com/OR/Portland/6725-SE-Hen...  369000  2.0   1.0   \n",
              "1  https://www.redfin.com/OR/Portland/2234-SE-30t...  716000  3.0   1.5   \n",
              "2  https://www.redfin.com/OR/Portland/12332-SW-57...  560000  3.0   2.0   \n",
              "3  https://www.redfin.com/OR/Portland/5304-SE-Ogd...  513000  2.0   1.0   \n",
              "4  https://www.redfin.com/OR/Portland/5395-SW-Dov...  950000  5.0   3.0   \n",
              "\n",
              "     sqft             address                city                       type  \\\n",
              "0   748.0   6725 SE Henry St,  Portland, OR 97206  Single Family Residential   \n",
              "1  2451.0   2234 SE 30th Ave,  Portland, OR 97214  Single Family Residential   \n",
              "2  1909.0  12332 SW 57th Ave,  Portland, OR 97219  Single Family Residential   \n",
              "3  1707.0   5304 SE Ogden St,  Portland, OR 97206  Single Family Residential   \n",
              "4  2876.0   5395 SW Dover Ln,  Portland, OR 97225  Single Family Residential   \n",
              "\n",
              "   year_built  est_price  price_per_sqft  \n",
              "0      1951.0     370963           493.0  \n",
              "1      1889.0     706940           292.0  \n",
              "2      1986.0     573623           293.0  \n",
              "3      1925.0     493870           301.0  \n",
              "4      1956.0     900768           330.0  "
            ],
            "text/html": [
              "\n",
              "  <div id=\"df-48380e10-eccd-40c7-8580-05dfdbe1cd3a\">\n",
              "    <div class=\"colab-df-container\">\n",
              "      <div>\n",
              "<style scoped>\n",
              "    .dataframe tbody tr th:only-of-type {\n",
              "        vertical-align: middle;\n",
              "    }\n",
              "\n",
              "    .dataframe tbody tr th {\n",
              "        vertical-align: top;\n",
              "    }\n",
              "\n",
              "    .dataframe thead th {\n",
              "        text-align: right;\n",
              "    }\n",
              "</style>\n",
              "<table border=\"1\" class=\"dataframe\">\n",
              "  <thead>\n",
              "    <tr style=\"text-align: right;\">\n",
              "      <th></th>\n",
              "      <th>url</th>\n",
              "      <th>price</th>\n",
              "      <th>bed</th>\n",
              "      <th>bath</th>\n",
              "      <th>sqft</th>\n",
              "      <th>address</th>\n",
              "      <th>city</th>\n",
              "      <th>type</th>\n",
              "      <th>year_built</th>\n",
              "      <th>est_price</th>\n",
              "      <th>price_per_sqft</th>\n",
              "    </tr>\n",
              "  </thead>\n",
              "  <tbody>\n",
              "    <tr>\n",
              "      <th>0</th>\n",
              "      <td>https://www.redfin.com/OR/Portland/6725-SE-Hen...</td>\n",
              "      <td>369000</td>\n",
              "      <td>2.0</td>\n",
              "      <td>1.0</td>\n",
              "      <td>748.0</td>\n",
              "      <td>6725 SE Henry St,</td>\n",
              "      <td>Portland, OR 97206</td>\n",
              "      <td>Single Family Residential</td>\n",
              "      <td>1951.0</td>\n",
              "      <td>370963</td>\n",
              "      <td>493.0</td>\n",
              "    </tr>\n",
              "    <tr>\n",
              "      <th>1</th>\n",
              "      <td>https://www.redfin.com/OR/Portland/2234-SE-30t...</td>\n",
              "      <td>716000</td>\n",
              "      <td>3.0</td>\n",
              "      <td>1.5</td>\n",
              "      <td>2451.0</td>\n",
              "      <td>2234 SE 30th Ave,</td>\n",
              "      <td>Portland, OR 97214</td>\n",
              "      <td>Single Family Residential</td>\n",
              "      <td>1889.0</td>\n",
              "      <td>706940</td>\n",
              "      <td>292.0</td>\n",
              "    </tr>\n",
              "    <tr>\n",
              "      <th>2</th>\n",
              "      <td>https://www.redfin.com/OR/Portland/12332-SW-57...</td>\n",
              "      <td>560000</td>\n",
              "      <td>3.0</td>\n",
              "      <td>2.0</td>\n",
              "      <td>1909.0</td>\n",
              "      <td>12332 SW 57th Ave,</td>\n",
              "      <td>Portland, OR 97219</td>\n",
              "      <td>Single Family Residential</td>\n",
              "      <td>1986.0</td>\n",
              "      <td>573623</td>\n",
              "      <td>293.0</td>\n",
              "    </tr>\n",
              "    <tr>\n",
              "      <th>3</th>\n",
              "      <td>https://www.redfin.com/OR/Portland/5304-SE-Ogd...</td>\n",
              "      <td>513000</td>\n",
              "      <td>2.0</td>\n",
              "      <td>1.0</td>\n",
              "      <td>1707.0</td>\n",
              "      <td>5304 SE Ogden St,</td>\n",
              "      <td>Portland, OR 97206</td>\n",
              "      <td>Single Family Residential</td>\n",
              "      <td>1925.0</td>\n",
              "      <td>493870</td>\n",
              "      <td>301.0</td>\n",
              "    </tr>\n",
              "    <tr>\n",
              "      <th>4</th>\n",
              "      <td>https://www.redfin.com/OR/Portland/5395-SW-Dov...</td>\n",
              "      <td>950000</td>\n",
              "      <td>5.0</td>\n",
              "      <td>3.0</td>\n",
              "      <td>2876.0</td>\n",
              "      <td>5395 SW Dover Ln,</td>\n",
              "      <td>Portland, OR 97225</td>\n",
              "      <td>Single Family Residential</td>\n",
              "      <td>1956.0</td>\n",
              "      <td>900768</td>\n",
              "      <td>330.0</td>\n",
              "    </tr>\n",
              "  </tbody>\n",
              "</table>\n",
              "</div>\n",
              "      <button class=\"colab-df-convert\" onclick=\"convertToInteractive('df-48380e10-eccd-40c7-8580-05dfdbe1cd3a')\"\n",
              "              title=\"Convert this dataframe to an interactive table.\"\n",
              "              style=\"display:none;\">\n",
              "        \n",
              "  <svg xmlns=\"http://www.w3.org/2000/svg\" height=\"24px\"viewBox=\"0 0 24 24\"\n",
              "       width=\"24px\">\n",
              "    <path d=\"M0 0h24v24H0V0z\" fill=\"none\"/>\n",
              "    <path d=\"M18.56 5.44l.94 2.06.94-2.06 2.06-.94-2.06-.94-.94-2.06-.94 2.06-2.06.94zm-11 1L8.5 8.5l.94-2.06 2.06-.94-2.06-.94L8.5 2.5l-.94 2.06-2.06.94zm10 10l.94 2.06.94-2.06 2.06-.94-2.06-.94-.94-2.06-.94 2.06-2.06.94z\"/><path d=\"M17.41 7.96l-1.37-1.37c-.4-.4-.92-.59-1.43-.59-.52 0-1.04.2-1.43.59L10.3 9.45l-7.72 7.72c-.78.78-.78 2.05 0 2.83L4 21.41c.39.39.9.59 1.41.59.51 0 1.02-.2 1.41-.59l7.78-7.78 2.81-2.81c.8-.78.8-2.07 0-2.86zM5.41 20L4 18.59l7.72-7.72 1.47 1.35L5.41 20z\"/>\n",
              "  </svg>\n",
              "      </button>\n",
              "      \n",
              "  <style>\n",
              "    .colab-df-container {\n",
              "      display:flex;\n",
              "      flex-wrap:wrap;\n",
              "      gap: 12px;\n",
              "    }\n",
              "\n",
              "    .colab-df-convert {\n",
              "      background-color: #E8F0FE;\n",
              "      border: none;\n",
              "      border-radius: 50%;\n",
              "      cursor: pointer;\n",
              "      display: none;\n",
              "      fill: #1967D2;\n",
              "      height: 32px;\n",
              "      padding: 0 0 0 0;\n",
              "      width: 32px;\n",
              "    }\n",
              "\n",
              "    .colab-df-convert:hover {\n",
              "      background-color: #E2EBFA;\n",
              "      box-shadow: 0px 1px 2px rgba(60, 64, 67, 0.3), 0px 1px 3px 1px rgba(60, 64, 67, 0.15);\n",
              "      fill: #174EA6;\n",
              "    }\n",
              "\n",
              "    [theme=dark] .colab-df-convert {\n",
              "      background-color: #3B4455;\n",
              "      fill: #D2E3FC;\n",
              "    }\n",
              "\n",
              "    [theme=dark] .colab-df-convert:hover {\n",
              "      background-color: #434B5C;\n",
              "      box-shadow: 0px 1px 3px 1px rgba(0, 0, 0, 0.15);\n",
              "      filter: drop-shadow(0px 1px 2px rgba(0, 0, 0, 0.3));\n",
              "      fill: #FFFFFF;\n",
              "    }\n",
              "  </style>\n",
              "\n",
              "      <script>\n",
              "        const buttonEl =\n",
              "          document.querySelector('#df-48380e10-eccd-40c7-8580-05dfdbe1cd3a button.colab-df-convert');\n",
              "        buttonEl.style.display =\n",
              "          google.colab.kernel.accessAllowed ? 'block' : 'none';\n",
              "\n",
              "        async function convertToInteractive(key) {\n",
              "          const element = document.querySelector('#df-48380e10-eccd-40c7-8580-05dfdbe1cd3a');\n",
              "          const dataTable =\n",
              "            await google.colab.kernel.invokeFunction('convertToInteractive',\n",
              "                                                     [key], {});\n",
              "          if (!dataTable) return;\n",
              "\n",
              "          const docLinkHtml = 'Like what you see? Visit the ' +\n",
              "            '<a target=\"_blank\" href=https://colab.research.google.com/notebooks/data_table.ipynb>data table notebook</a>'\n",
              "            + ' to learn more about interactive tables.';\n",
              "          element.innerHTML = '';\n",
              "          dataTable['output_type'] = 'display_data';\n",
              "          await google.colab.output.renderOutput(dataTable, element);\n",
              "          const docLink = document.createElement('div');\n",
              "          docLink.innerHTML = docLinkHtml;\n",
              "          element.appendChild(docLink);\n",
              "        }\n",
              "      </script>\n",
              "    </div>\n",
              "  </div>\n",
              "  "
            ]
          },
          "metadata": {}
        }
      ]
    },
    {
      "cell_type": "markdown",
      "source": [
        "# Preprocessing and EDA"
      ],
      "metadata": {
        "id": "N0L2w1je0oJU"
      }
    },
    {
      "cell_type": "code",
      "source": [
        "# extract zipcode from city\n",
        "df['Zip Code'] = df['city'].str.extract(r'(\\d{5})')\n",
        "display(df.head())"
      ],
      "metadata": {
        "colab": {
          "base_uri": "https://localhost:8080/",
          "height": 354
        },
        "id": "YvFyuAn4L6Lt",
        "outputId": "e64982a8-9af4-42bd-d901-e13ab038d420"
      },
      "execution_count": 5,
      "outputs": [
        {
          "output_type": "display_data",
          "data": {
            "text/plain": [
              "                                                 url   price  bed  bath  \\\n",
              "0  https://www.redfin.com/OR/Portland/6725-SE-Hen...  369000  2.0   1.0   \n",
              "1  https://www.redfin.com/OR/Portland/2234-SE-30t...  716000  3.0   1.5   \n",
              "2  https://www.redfin.com/OR/Portland/12332-SW-57...  560000  3.0   2.0   \n",
              "3  https://www.redfin.com/OR/Portland/5304-SE-Ogd...  513000  2.0   1.0   \n",
              "4  https://www.redfin.com/OR/Portland/5395-SW-Dov...  950000  5.0   3.0   \n",
              "\n",
              "     sqft             address                city                       type  \\\n",
              "0   748.0   6725 SE Henry St,  Portland, OR 97206  Single Family Residential   \n",
              "1  2451.0   2234 SE 30th Ave,  Portland, OR 97214  Single Family Residential   \n",
              "2  1909.0  12332 SW 57th Ave,  Portland, OR 97219  Single Family Residential   \n",
              "3  1707.0   5304 SE Ogden St,  Portland, OR 97206  Single Family Residential   \n",
              "4  2876.0   5395 SW Dover Ln,  Portland, OR 97225  Single Family Residential   \n",
              "\n",
              "   year_built  est_price  price_per_sqft Zip Code  \n",
              "0      1951.0     370963           493.0    97206  \n",
              "1      1889.0     706940           292.0    97214  \n",
              "2      1986.0     573623           293.0    97219  \n",
              "3      1925.0     493870           301.0    97206  \n",
              "4      1956.0     900768           330.0    97225  "
            ],
            "text/html": [
              "\n",
              "  <div id=\"df-32d80bf4-34c7-4a62-86bb-ac3e6f472e93\">\n",
              "    <div class=\"colab-df-container\">\n",
              "      <div>\n",
              "<style scoped>\n",
              "    .dataframe tbody tr th:only-of-type {\n",
              "        vertical-align: middle;\n",
              "    }\n",
              "\n",
              "    .dataframe tbody tr th {\n",
              "        vertical-align: top;\n",
              "    }\n",
              "\n",
              "    .dataframe thead th {\n",
              "        text-align: right;\n",
              "    }\n",
              "</style>\n",
              "<table border=\"1\" class=\"dataframe\">\n",
              "  <thead>\n",
              "    <tr style=\"text-align: right;\">\n",
              "      <th></th>\n",
              "      <th>url</th>\n",
              "      <th>price</th>\n",
              "      <th>bed</th>\n",
              "      <th>bath</th>\n",
              "      <th>sqft</th>\n",
              "      <th>address</th>\n",
              "      <th>city</th>\n",
              "      <th>type</th>\n",
              "      <th>year_built</th>\n",
              "      <th>est_price</th>\n",
              "      <th>price_per_sqft</th>\n",
              "      <th>Zip Code</th>\n",
              "    </tr>\n",
              "  </thead>\n",
              "  <tbody>\n",
              "    <tr>\n",
              "      <th>0</th>\n",
              "      <td>https://www.redfin.com/OR/Portland/6725-SE-Hen...</td>\n",
              "      <td>369000</td>\n",
              "      <td>2.0</td>\n",
              "      <td>1.0</td>\n",
              "      <td>748.0</td>\n",
              "      <td>6725 SE Henry St,</td>\n",
              "      <td>Portland, OR 97206</td>\n",
              "      <td>Single Family Residential</td>\n",
              "      <td>1951.0</td>\n",
              "      <td>370963</td>\n",
              "      <td>493.0</td>\n",
              "      <td>97206</td>\n",
              "    </tr>\n",
              "    <tr>\n",
              "      <th>1</th>\n",
              "      <td>https://www.redfin.com/OR/Portland/2234-SE-30t...</td>\n",
              "      <td>716000</td>\n",
              "      <td>3.0</td>\n",
              "      <td>1.5</td>\n",
              "      <td>2451.0</td>\n",
              "      <td>2234 SE 30th Ave,</td>\n",
              "      <td>Portland, OR 97214</td>\n",
              "      <td>Single Family Residential</td>\n",
              "      <td>1889.0</td>\n",
              "      <td>706940</td>\n",
              "      <td>292.0</td>\n",
              "      <td>97214</td>\n",
              "    </tr>\n",
              "    <tr>\n",
              "      <th>2</th>\n",
              "      <td>https://www.redfin.com/OR/Portland/12332-SW-57...</td>\n",
              "      <td>560000</td>\n",
              "      <td>3.0</td>\n",
              "      <td>2.0</td>\n",
              "      <td>1909.0</td>\n",
              "      <td>12332 SW 57th Ave,</td>\n",
              "      <td>Portland, OR 97219</td>\n",
              "      <td>Single Family Residential</td>\n",
              "      <td>1986.0</td>\n",
              "      <td>573623</td>\n",
              "      <td>293.0</td>\n",
              "      <td>97219</td>\n",
              "    </tr>\n",
              "    <tr>\n",
              "      <th>3</th>\n",
              "      <td>https://www.redfin.com/OR/Portland/5304-SE-Ogd...</td>\n",
              "      <td>513000</td>\n",
              "      <td>2.0</td>\n",
              "      <td>1.0</td>\n",
              "      <td>1707.0</td>\n",
              "      <td>5304 SE Ogden St,</td>\n",
              "      <td>Portland, OR 97206</td>\n",
              "      <td>Single Family Residential</td>\n",
              "      <td>1925.0</td>\n",
              "      <td>493870</td>\n",
              "      <td>301.0</td>\n",
              "      <td>97206</td>\n",
              "    </tr>\n",
              "    <tr>\n",
              "      <th>4</th>\n",
              "      <td>https://www.redfin.com/OR/Portland/5395-SW-Dov...</td>\n",
              "      <td>950000</td>\n",
              "      <td>5.0</td>\n",
              "      <td>3.0</td>\n",
              "      <td>2876.0</td>\n",
              "      <td>5395 SW Dover Ln,</td>\n",
              "      <td>Portland, OR 97225</td>\n",
              "      <td>Single Family Residential</td>\n",
              "      <td>1956.0</td>\n",
              "      <td>900768</td>\n",
              "      <td>330.0</td>\n",
              "      <td>97225</td>\n",
              "    </tr>\n",
              "  </tbody>\n",
              "</table>\n",
              "</div>\n",
              "      <button class=\"colab-df-convert\" onclick=\"convertToInteractive('df-32d80bf4-34c7-4a62-86bb-ac3e6f472e93')\"\n",
              "              title=\"Convert this dataframe to an interactive table.\"\n",
              "              style=\"display:none;\">\n",
              "        \n",
              "  <svg xmlns=\"http://www.w3.org/2000/svg\" height=\"24px\"viewBox=\"0 0 24 24\"\n",
              "       width=\"24px\">\n",
              "    <path d=\"M0 0h24v24H0V0z\" fill=\"none\"/>\n",
              "    <path d=\"M18.56 5.44l.94 2.06.94-2.06 2.06-.94-2.06-.94-.94-2.06-.94 2.06-2.06.94zm-11 1L8.5 8.5l.94-2.06 2.06-.94-2.06-.94L8.5 2.5l-.94 2.06-2.06.94zm10 10l.94 2.06.94-2.06 2.06-.94-2.06-.94-.94-2.06-.94 2.06-2.06.94z\"/><path d=\"M17.41 7.96l-1.37-1.37c-.4-.4-.92-.59-1.43-.59-.52 0-1.04.2-1.43.59L10.3 9.45l-7.72 7.72c-.78.78-.78 2.05 0 2.83L4 21.41c.39.39.9.59 1.41.59.51 0 1.02-.2 1.41-.59l7.78-7.78 2.81-2.81c.8-.78.8-2.07 0-2.86zM5.41 20L4 18.59l7.72-7.72 1.47 1.35L5.41 20z\"/>\n",
              "  </svg>\n",
              "      </button>\n",
              "      \n",
              "  <style>\n",
              "    .colab-df-container {\n",
              "      display:flex;\n",
              "      flex-wrap:wrap;\n",
              "      gap: 12px;\n",
              "    }\n",
              "\n",
              "    .colab-df-convert {\n",
              "      background-color: #E8F0FE;\n",
              "      border: none;\n",
              "      border-radius: 50%;\n",
              "      cursor: pointer;\n",
              "      display: none;\n",
              "      fill: #1967D2;\n",
              "      height: 32px;\n",
              "      padding: 0 0 0 0;\n",
              "      width: 32px;\n",
              "    }\n",
              "\n",
              "    .colab-df-convert:hover {\n",
              "      background-color: #E2EBFA;\n",
              "      box-shadow: 0px 1px 2px rgba(60, 64, 67, 0.3), 0px 1px 3px 1px rgba(60, 64, 67, 0.15);\n",
              "      fill: #174EA6;\n",
              "    }\n",
              "\n",
              "    [theme=dark] .colab-df-convert {\n",
              "      background-color: #3B4455;\n",
              "      fill: #D2E3FC;\n",
              "    }\n",
              "\n",
              "    [theme=dark] .colab-df-convert:hover {\n",
              "      background-color: #434B5C;\n",
              "      box-shadow: 0px 1px 3px 1px rgba(0, 0, 0, 0.15);\n",
              "      filter: drop-shadow(0px 1px 2px rgba(0, 0, 0, 0.3));\n",
              "      fill: #FFFFFF;\n",
              "    }\n",
              "  </style>\n",
              "\n",
              "      <script>\n",
              "        const buttonEl =\n",
              "          document.querySelector('#df-32d80bf4-34c7-4a62-86bb-ac3e6f472e93 button.colab-df-convert');\n",
              "        buttonEl.style.display =\n",
              "          google.colab.kernel.accessAllowed ? 'block' : 'none';\n",
              "\n",
              "        async function convertToInteractive(key) {\n",
              "          const element = document.querySelector('#df-32d80bf4-34c7-4a62-86bb-ac3e6f472e93');\n",
              "          const dataTable =\n",
              "            await google.colab.kernel.invokeFunction('convertToInteractive',\n",
              "                                                     [key], {});\n",
              "          if (!dataTable) return;\n",
              "\n",
              "          const docLinkHtml = 'Like what you see? Visit the ' +\n",
              "            '<a target=\"_blank\" href=https://colab.research.google.com/notebooks/data_table.ipynb>data table notebook</a>'\n",
              "            + ' to learn more about interactive tables.';\n",
              "          element.innerHTML = '';\n",
              "          dataTable['output_type'] = 'display_data';\n",
              "          await google.colab.output.renderOutput(dataTable, element);\n",
              "          const docLink = document.createElement('div');\n",
              "          docLink.innerHTML = docLinkHtml;\n",
              "          element.appendChild(docLink);\n",
              "        }\n",
              "      </script>\n",
              "    </div>\n",
              "  </div>\n",
              "  "
            ]
          },
          "metadata": {}
        }
      ]
    },
    {
      "cell_type": "code",
      "source": [
        "print(df.dtypes)"
      ],
      "metadata": {
        "colab": {
          "base_uri": "https://localhost:8080/"
        },
        "id": "NY36qzpGMLvM",
        "outputId": "fcea13f6-0701-42f8-fc56-ab1f4a656d43"
      },
      "execution_count": 6,
      "outputs": [
        {
          "output_type": "stream",
          "name": "stdout",
          "text": [
            "url                object\n",
            "price               int64\n",
            "bed               float64\n",
            "bath              float64\n",
            "sqft              float64\n",
            "address            object\n",
            "city               object\n",
            "type               object\n",
            "year_built        float64\n",
            "est_price           int64\n",
            "price_per_sqft    float64\n",
            "Zip Code           object\n",
            "dtype: object\n"
          ]
        }
      ]
    },
    {
      "cell_type": "code",
      "source": [
        "# Are there any missing values in the dataset?\n",
        "df.isnull().sum()"
      ],
      "metadata": {
        "colab": {
          "base_uri": "https://localhost:8080/"
        },
        "id": "lXTyRsKZH3Hl",
        "outputId": "6d2bab38-8d21-4e07-9b39-b0f32433d240"
      },
      "execution_count": 7,
      "outputs": [
        {
          "output_type": "execute_result",
          "data": {
            "text/plain": [
              "url               0\n",
              "price             0\n",
              "bed               2\n",
              "bath              2\n",
              "sqft              1\n",
              "address           0\n",
              "city              0\n",
              "type              0\n",
              "year_built        2\n",
              "est_price         0\n",
              "price_per_sqft    3\n",
              "Zip Code          0\n",
              "dtype: int64"
            ]
          },
          "metadata": {},
          "execution_count": 7
        }
      ]
    },
    {
      "cell_type": "code",
      "source": [
        "#filling out missing value\n",
        "df['year_built'].fillna(df.year_built.median(),inplace=True)\n",
        "df['sqft'].fillna(df.sqft.median(),inplace=True)\n",
        "df['bath'].fillna(df.bath.median(),inplace=True)\n",
        "df['bed'].fillna(df.bed.median(),inplace=True)\n",
        "df['price_per_sqft'].fillna(df.price_per_sqft.median(),inplace=True)"
      ],
      "metadata": {
        "id": "ywy_N0eqLtnH"
      },
      "execution_count": 8,
      "outputs": []
    },
    {
      "cell_type": "code",
      "source": [
        "df.isnull().sum()"
      ],
      "metadata": {
        "colab": {
          "base_uri": "https://localhost:8080/"
        },
        "id": "cg4j2xX0Mtjl",
        "outputId": "849711fd-057a-428f-a3c7-6b52b63b1736"
      },
      "execution_count": 9,
      "outputs": [
        {
          "output_type": "execute_result",
          "data": {
            "text/plain": [
              "url               0\n",
              "price             0\n",
              "bed               0\n",
              "bath              0\n",
              "sqft              0\n",
              "address           0\n",
              "city              0\n",
              "type              0\n",
              "year_built        0\n",
              "est_price         0\n",
              "price_per_sqft    0\n",
              "Zip Code          0\n",
              "dtype: int64"
            ]
          },
          "metadata": {},
          "execution_count": 9
        }
      ]
    },
    {
      "cell_type": "code",
      "source": [
        "df.describe().transpose()"
      ],
      "metadata": {
        "colab": {
          "base_uri": "https://localhost:8080/",
          "height": 269
        },
        "id": "bHR8RFhjIDWh",
        "outputId": "24ebb4a8-a300-4199-8a36-c75d38032214"
      },
      "execution_count": 10,
      "outputs": [
        {
          "output_type": "execute_result",
          "data": {
            "text/plain": [
              "                count           mean            std      min       25%  \\\n",
              "price           239.0  613410.648536  373530.272976  79985.0  418440.0   \n",
              "bed             239.0       3.167364       1.015232      1.0       3.0   \n",
              "bath            239.0       2.035565       0.796388      0.5       1.0   \n",
              "sqft            239.0    2029.523013    1033.861525    510.0    1346.0   \n",
              "year_built      239.0    1962.510460      35.574028   1888.0    1929.5   \n",
              "est_price       239.0  605829.983264  361201.470817  94599.0  416389.0   \n",
              "price_per_sqft  239.0     314.292887      91.890268     60.0     258.0   \n",
              "\n",
              "                     50%       75%        max  \n",
              "price           535000.0  700125.0  3577600.0  \n",
              "bed                  3.0       4.0        6.0  \n",
              "bath                 2.0       2.5        4.5  \n",
              "sqft              1875.0    2473.5     9900.0  \n",
              "year_built        1960.0    1995.0     2023.0  \n",
              "est_price       531521.0  688220.5  3517359.0  \n",
              "price_per_sqft     307.0     361.5      724.0  "
            ],
            "text/html": [
              "\n",
              "  <div id=\"df-60a6e650-e90c-4120-89f8-18e3f03c6263\">\n",
              "    <div class=\"colab-df-container\">\n",
              "      <div>\n",
              "<style scoped>\n",
              "    .dataframe tbody tr th:only-of-type {\n",
              "        vertical-align: middle;\n",
              "    }\n",
              "\n",
              "    .dataframe tbody tr th {\n",
              "        vertical-align: top;\n",
              "    }\n",
              "\n",
              "    .dataframe thead th {\n",
              "        text-align: right;\n",
              "    }\n",
              "</style>\n",
              "<table border=\"1\" class=\"dataframe\">\n",
              "  <thead>\n",
              "    <tr style=\"text-align: right;\">\n",
              "      <th></th>\n",
              "      <th>count</th>\n",
              "      <th>mean</th>\n",
              "      <th>std</th>\n",
              "      <th>min</th>\n",
              "      <th>25%</th>\n",
              "      <th>50%</th>\n",
              "      <th>75%</th>\n",
              "      <th>max</th>\n",
              "    </tr>\n",
              "  </thead>\n",
              "  <tbody>\n",
              "    <tr>\n",
              "      <th>price</th>\n",
              "      <td>239.0</td>\n",
              "      <td>613410.648536</td>\n",
              "      <td>373530.272976</td>\n",
              "      <td>79985.0</td>\n",
              "      <td>418440.0</td>\n",
              "      <td>535000.0</td>\n",
              "      <td>700125.0</td>\n",
              "      <td>3577600.0</td>\n",
              "    </tr>\n",
              "    <tr>\n",
              "      <th>bed</th>\n",
              "      <td>239.0</td>\n",
              "      <td>3.167364</td>\n",
              "      <td>1.015232</td>\n",
              "      <td>1.0</td>\n",
              "      <td>3.0</td>\n",
              "      <td>3.0</td>\n",
              "      <td>4.0</td>\n",
              "      <td>6.0</td>\n",
              "    </tr>\n",
              "    <tr>\n",
              "      <th>bath</th>\n",
              "      <td>239.0</td>\n",
              "      <td>2.035565</td>\n",
              "      <td>0.796388</td>\n",
              "      <td>0.5</td>\n",
              "      <td>1.0</td>\n",
              "      <td>2.0</td>\n",
              "      <td>2.5</td>\n",
              "      <td>4.5</td>\n",
              "    </tr>\n",
              "    <tr>\n",
              "      <th>sqft</th>\n",
              "      <td>239.0</td>\n",
              "      <td>2029.523013</td>\n",
              "      <td>1033.861525</td>\n",
              "      <td>510.0</td>\n",
              "      <td>1346.0</td>\n",
              "      <td>1875.0</td>\n",
              "      <td>2473.5</td>\n",
              "      <td>9900.0</td>\n",
              "    </tr>\n",
              "    <tr>\n",
              "      <th>year_built</th>\n",
              "      <td>239.0</td>\n",
              "      <td>1962.510460</td>\n",
              "      <td>35.574028</td>\n",
              "      <td>1888.0</td>\n",
              "      <td>1929.5</td>\n",
              "      <td>1960.0</td>\n",
              "      <td>1995.0</td>\n",
              "      <td>2023.0</td>\n",
              "    </tr>\n",
              "    <tr>\n",
              "      <th>est_price</th>\n",
              "      <td>239.0</td>\n",
              "      <td>605829.983264</td>\n",
              "      <td>361201.470817</td>\n",
              "      <td>94599.0</td>\n",
              "      <td>416389.0</td>\n",
              "      <td>531521.0</td>\n",
              "      <td>688220.5</td>\n",
              "      <td>3517359.0</td>\n",
              "    </tr>\n",
              "    <tr>\n",
              "      <th>price_per_sqft</th>\n",
              "      <td>239.0</td>\n",
              "      <td>314.292887</td>\n",
              "      <td>91.890268</td>\n",
              "      <td>60.0</td>\n",
              "      <td>258.0</td>\n",
              "      <td>307.0</td>\n",
              "      <td>361.5</td>\n",
              "      <td>724.0</td>\n",
              "    </tr>\n",
              "  </tbody>\n",
              "</table>\n",
              "</div>\n",
              "      <button class=\"colab-df-convert\" onclick=\"convertToInteractive('df-60a6e650-e90c-4120-89f8-18e3f03c6263')\"\n",
              "              title=\"Convert this dataframe to an interactive table.\"\n",
              "              style=\"display:none;\">\n",
              "        \n",
              "  <svg xmlns=\"http://www.w3.org/2000/svg\" height=\"24px\"viewBox=\"0 0 24 24\"\n",
              "       width=\"24px\">\n",
              "    <path d=\"M0 0h24v24H0V0z\" fill=\"none\"/>\n",
              "    <path d=\"M18.56 5.44l.94 2.06.94-2.06 2.06-.94-2.06-.94-.94-2.06-.94 2.06-2.06.94zm-11 1L8.5 8.5l.94-2.06 2.06-.94-2.06-.94L8.5 2.5l-.94 2.06-2.06.94zm10 10l.94 2.06.94-2.06 2.06-.94-2.06-.94-.94-2.06-.94 2.06-2.06.94z\"/><path d=\"M17.41 7.96l-1.37-1.37c-.4-.4-.92-.59-1.43-.59-.52 0-1.04.2-1.43.59L10.3 9.45l-7.72 7.72c-.78.78-.78 2.05 0 2.83L4 21.41c.39.39.9.59 1.41.59.51 0 1.02-.2 1.41-.59l7.78-7.78 2.81-2.81c.8-.78.8-2.07 0-2.86zM5.41 20L4 18.59l7.72-7.72 1.47 1.35L5.41 20z\"/>\n",
              "  </svg>\n",
              "      </button>\n",
              "      \n",
              "  <style>\n",
              "    .colab-df-container {\n",
              "      display:flex;\n",
              "      flex-wrap:wrap;\n",
              "      gap: 12px;\n",
              "    }\n",
              "\n",
              "    .colab-df-convert {\n",
              "      background-color: #E8F0FE;\n",
              "      border: none;\n",
              "      border-radius: 50%;\n",
              "      cursor: pointer;\n",
              "      display: none;\n",
              "      fill: #1967D2;\n",
              "      height: 32px;\n",
              "      padding: 0 0 0 0;\n",
              "      width: 32px;\n",
              "    }\n",
              "\n",
              "    .colab-df-convert:hover {\n",
              "      background-color: #E2EBFA;\n",
              "      box-shadow: 0px 1px 2px rgba(60, 64, 67, 0.3), 0px 1px 3px 1px rgba(60, 64, 67, 0.15);\n",
              "      fill: #174EA6;\n",
              "    }\n",
              "\n",
              "    [theme=dark] .colab-df-convert {\n",
              "      background-color: #3B4455;\n",
              "      fill: #D2E3FC;\n",
              "    }\n",
              "\n",
              "    [theme=dark] .colab-df-convert:hover {\n",
              "      background-color: #434B5C;\n",
              "      box-shadow: 0px 1px 3px 1px rgba(0, 0, 0, 0.15);\n",
              "      filter: drop-shadow(0px 1px 2px rgba(0, 0, 0, 0.3));\n",
              "      fill: #FFFFFF;\n",
              "    }\n",
              "  </style>\n",
              "\n",
              "      <script>\n",
              "        const buttonEl =\n",
              "          document.querySelector('#df-60a6e650-e90c-4120-89f8-18e3f03c6263 button.colab-df-convert');\n",
              "        buttonEl.style.display =\n",
              "          google.colab.kernel.accessAllowed ? 'block' : 'none';\n",
              "\n",
              "        async function convertToInteractive(key) {\n",
              "          const element = document.querySelector('#df-60a6e650-e90c-4120-89f8-18e3f03c6263');\n",
              "          const dataTable =\n",
              "            await google.colab.kernel.invokeFunction('convertToInteractive',\n",
              "                                                     [key], {});\n",
              "          if (!dataTable) return;\n",
              "\n",
              "          const docLinkHtml = 'Like what you see? Visit the ' +\n",
              "            '<a target=\"_blank\" href=https://colab.research.google.com/notebooks/data_table.ipynb>data table notebook</a>'\n",
              "            + ' to learn more about interactive tables.';\n",
              "          element.innerHTML = '';\n",
              "          dataTable['output_type'] = 'display_data';\n",
              "          await google.colab.output.renderOutput(dataTable, element);\n",
              "          const docLink = document.createElement('div');\n",
              "          docLink.innerHTML = docLinkHtml;\n",
              "          element.appendChild(docLink);\n",
              "        }\n",
              "      </script>\n",
              "    </div>\n",
              "  </div>\n",
              "  "
            ]
          },
          "metadata": {},
          "execution_count": 10
        }
      ]
    },
    {
      "cell_type": "markdown",
      "source": [
        "With the description, we can observe that the average sold price of the \n",
        "\n",
        "house is around $613,411 while the estimated price in average for the \n",
        "\n",
        "houses was $605,830."
      ],
      "metadata": {
        "id": "v05DprqqIU0_"
      }
    },
    {
      "cell_type": "code",
      "source": [
        "# correlation matrix\n",
        "corrMatrix = df.corr()\n",
        "sn.heatmap(corrMatrix, annot=True)\n",
        "plt.show()"
      ],
      "metadata": {
        "colab": {
          "base_uri": "https://localhost:8080/",
          "height": 330
        },
        "id": "lwfTjXRVJoIq",
        "outputId": "448700ed-7867-4630-9d96-a9440aaac561"
      },
      "execution_count": 11,
      "outputs": [
        {
          "output_type": "display_data",
          "data": {
            "text/plain": [
              "<Figure size 432x288 with 2 Axes>"
            ],
            "image/png": "[encoded data removed]"
          },
          "metadata": {
            "needs_background": "light"
          }
        }
      ]
    },
    {
      "cell_type": "code",
      "source": [
        "# Target Variable Distribution\n",
        "sns.boxplot(df['price'], whis=10, color=\"#00B8D9\")"
      ],
      "metadata": {
        "colab": {
          "base_uri": "https://localhost:8080/",
          "height": 294
        },
        "id": "YK69IJ_bKbLq",
        "outputId": "c9b7381d-8265-4b38-cbe2-dba890deb660"
      },
      "execution_count": 12,
      "outputs": [
        {
          "output_type": "execute_result",
          "data": {
            "text/plain": [
              "<Axes: >"
            ]
          },
          "metadata": {},
          "execution_count": 12
        },
        {
          "output_type": "display_data",
          "data": {
            "text/plain": [
              "<Figure size 432x288 with 1 Axes>"
            ],
            "image/png": "[encoded data removed]"
          },
          "metadata": {
            "needs_background": "light"
          }
        }
      ]
    },
    {
      "cell_type": "markdown",
      "source": [
        "We can notice a price outlier around $ 3.5 millions"
      ],
      "metadata": {
        "id": "VEGcCcwjN9VL"
      }
    },
    {
      "cell_type": "code",
      "source": [
        "sns.distplot(df['price'], kde=False, \n",
        "             color=\"#172B4D\", hist_kws={\"alpha\": 0.8});\n",
        "plt.ylabel(\"Count\");"
      ],
      "metadata": {
        "colab": {
          "base_uri": "https://localhost:8080/",
          "height": 472
        },
        "id": "ca6uGhLWOHFS",
        "outputId": "07a48d4b-c584-43db-c548-75294c0a81d7"
      },
      "execution_count": 13,
      "outputs": [
        {
          "output_type": "stream",
          "name": "stderr",
          "text": [
            "<ipython-input-13-17ff67ae30f1>:1: UserWarning: \n",
            "\n",
            "`distplot` is a deprecated function and will be removed in seaborn v0.14.0.\n",
            "\n",
            "Please adapt your code to use either `displot` (a figure-level function with\n",
            "similar flexibility) or `histplot` (an axes-level function for histograms).\n",
            "\n",
            "For a guide to updating your code to use the new functions, please see\n",
            "https://gist.github.com/mwaskom/de44147ed2974457ad6372750bbe5751\n",
            "\n",
            "  sns.distplot(df['price'], kde=False,\n"
          ]
        },
        {
          "output_type": "display_data",
          "data": {
            "text/plain": [
              "<Figure size 432x288 with 1 Axes>"
            ],
            "image/png": "[encoded data removed]"
          },
          "metadata": {
            "needs_background": "light"
          }
        }
      ]
    },
    {
      "cell_type": "markdown",
      "source": [
        "With the histogram we can see that it is skewed on the right and there is \n",
        "\n",
        "between 2 millions and $3.6 millions.\n",
        "\n",
        "noted as well that most of the houses sold are between around 200,000 and 900,000 dollars"
      ],
      "metadata": {
        "id": "m835IQhQOreG"
      }
    },
    {
      "cell_type": "code",
      "source": [
        "# visualization of the highly correlated target variables to other variables\n",
        "sns.distplot(df['sqft'], kde=False, \n",
        "             color=\"#172B4D\", hist_kws={\"alpha\": 0.8});\n",
        "plt.ylabel(\"Count\");"
      ],
      "metadata": {
        "colab": {
          "base_uri": "https://localhost:8080/",
          "height": 472
        },
        "id": "Vr8LXnfWPTiZ",
        "outputId": "bf203f9e-a680-44be-b051-a9f157d55935"
      },
      "execution_count": 14,
      "outputs": [
        {
          "output_type": "stream",
          "name": "stderr",
          "text": [
            "<ipython-input-14-21ddc39115ff>:2: UserWarning: \n",
            "\n",
            "`distplot` is a deprecated function and will be removed in seaborn v0.14.0.\n",
            "\n",
            "Please adapt your code to use either `displot` (a figure-level function with\n",
            "similar flexibility) or `histplot` (an axes-level function for histograms).\n",
            "\n",
            "For a guide to updating your code to use the new functions, please see\n",
            "https://gist.github.com/mwaskom/de44147ed2974457ad6372750bbe5751\n",
            "\n",
            "  sns.distplot(df['sqft'], kde=False,\n"
          ]
        },
        {
          "output_type": "display_data",
          "data": {
            "text/plain": [
              "<Figure size 432x288 with 1 Axes>"
            ],
            "image/png": "[encoded data removed]"
          },
          "metadata": {
            "needs_background": "light"
          }
        }
      ]
    },
    {
      "cell_type": "code",
      "source": [
        "plt.scatter(x=df['sqft'], y=df['price'], \n",
        "            color=\"orange\", edgecolors=\"#000000\", linewidths=0.5);\n",
        "plt.xlabel(\"square feet\"); plt.ylabel(\"Price\");"
      ],
      "metadata": {
        "colab": {
          "base_uri": "https://localhost:8080/",
          "height": 290
        },
        "id": "1QCBzUNPRF0Z",
        "outputId": "43767b39-b051-4e96-d6ad-e8e38609fdee"
      },
      "execution_count": 15,
      "outputs": [
        {
          "output_type": "display_data",
          "data": {
            "text/plain": [
              "<Figure size 432x288 with 1 Axes>"
            ],
            "image/png": "[encoded data removed]"
          },
          "metadata": {
            "needs_background": "light"
          }
        }
      ]
    },
    {
      "cell_type": "code",
      "source": [
        "sns.distplot(df['bath'], kde=False, \n",
        "             color=\"#172B4D\", hist_kws={\"alpha\": 0.8});\n",
        "plt.ylabel(\"Count\");"
      ],
      "metadata": {
        "colab": {
          "base_uri": "https://localhost:8080/",
          "height": 472
        },
        "id": "3Isjdv-TTpSx",
        "outputId": "ad7e0359-6b41-404f-9b1d-2aef9f1db8f0"
      },
      "execution_count": 16,
      "outputs": [
        {
          "output_type": "stream",
          "name": "stderr",
          "text": [
            "<ipython-input-16-7f9fa623d508>:1: UserWarning: \n",
            "\n",
            "`distplot` is a deprecated function and will be removed in seaborn v0.14.0.\n",
            "\n",
            "Please adapt your code to use either `displot` (a figure-level function with\n",
            "similar flexibility) or `histplot` (an axes-level function for histograms).\n",
            "\n",
            "For a guide to updating your code to use the new functions, please see\n",
            "https://gist.github.com/mwaskom/de44147ed2974457ad6372750bbe5751\n",
            "\n",
            "  sns.distplot(df['bath'], kde=False,\n"
          ]
        },
        {
          "output_type": "display_data",
          "data": {
            "text/plain": [
              "<Figure size 432x288 with 1 Axes>"
            ],
            "image/png": "[encoded data removed]"
          },
          "metadata": {
            "needs_background": "light"
          }
        }
      ]
    },
    {
      "cell_type": "code",
      "source": [
        "plt.scatter(x=df['bath'], y=df['price'], \n",
        "            color=\"orange\", edgecolors=\"#000000\", linewidths=0.5);\n",
        "plt.xlabel(\"bathroom\"); plt.ylabel(\"Price\");"
      ],
      "metadata": {
        "colab": {
          "base_uri": "https://localhost:8080/",
          "height": 290
        },
        "id": "h61x40vlUC87",
        "outputId": "49cdc63f-487c-4484-ac8b-62d21a053afe"
      },
      "execution_count": 17,
      "outputs": [
        {
          "output_type": "display_data",
          "data": {
            "text/plain": [
              "<Figure size 432x288 with 1 Axes>"
            ],
            "image/png": "[encoded data removed]"
          },
          "metadata": {
            "needs_background": "light"
          }
        }
      ]
    },
    {
      "cell_type": "markdown",
      "source": [
        "We can see that they are truly positively correlated; generally, as the overall bathroom increases, the sale price increases slightly too. This verfies what we got from the heatmap above."
      ],
      "metadata": {
        "id": "qsk2ua1ZUXtM"
      }
    },
    {
      "cell_type": "code",
      "source": [
        "plt.scatter(x=df['type'], y=df['price'], \n",
        "            color=\"orange\", edgecolors=\"#000000\", linewidths=0.5);\n",
        "plt.xlabel(\"Type\"); plt.ylabel(\"Price\");"
      ],
      "metadata": {
        "colab": {
          "base_uri": "https://localhost:8080/",
          "height": 290
        },
        "id": "BfKgHSafj-NN",
        "outputId": "9ecd77b1-dfb4-41d5-bdaf-882a4f0bb8a7"
      },
      "execution_count": 18,
      "outputs": [
        {
          "output_type": "display_data",
          "data": {
            "text/plain": [
              "<Figure size 432x288 with 1 Axes>"
            ],
            "image/png": "[encoded data removed]"
          },
          "metadata": {
            "needs_background": "light"
          }
        }
      ]
    },
    {
      "cell_type": "markdown",
      "source": [
        "With this scatterplot, we can see the majority of house sold was single family residence."
      ],
      "metadata": {
        "id": "RQN38ePMkfyN"
      }
    },
    {
      "cell_type": "code",
      "source": [
        "plt.scatter(x=df['est_price'], y=df['price'], \n",
        "            color=\"orange\", edgecolors=\"#000000\", linewidths=0.5);\n",
        "plt.xlabel(\"estimated price\"); plt.ylabel(\"Price\");"
      ],
      "metadata": {
        "colab": {
          "base_uri": "https://localhost:8080/",
          "height": 290
        },
        "id": "SqTcNxDGZS7L",
        "outputId": "0a95e917-d426-4644-c2f0-8541ca1417e6"
      },
      "execution_count": 19,
      "outputs": [
        {
          "output_type": "display_data",
          "data": {
            "text/plain": [
              "<Figure size 432x288 with 1 Axes>"
            ],
            "image/png": "[encoded data removed]"
          },
          "metadata": {
            "needs_background": "light"
          }
        }
      ]
    },
    {
      "cell_type": "markdown",
      "source": [
        "of course the estimated price is almost the same as the sold price as we said earlier there is around 7,000 dolars difference between sold price and estimate price in average."
      ],
      "metadata": {
        "id": "ZwPvyqmfZjWj"
      }
    },
    {
      "cell_type": "code",
      "source": [
        "# unique value checking\n",
        "\n",
        "df['address'].describe()"
      ],
      "metadata": {
        "colab": {
          "base_uri": "https://localhost:8080/"
        },
        "id": "zEJtJKKYeKgx",
        "outputId": "679512d6-1154-4679-e475-5ed9328ee3a2"
      },
      "execution_count": 20,
      "outputs": [
        {
          "output_type": "execute_result",
          "data": {
            "text/plain": [
              "count                     239\n",
              "unique                    237\n",
              "top       3962 N Montana Ave,\n",
              "freq                        2\n",
              "Name: address, dtype: object"
            ]
          },
          "metadata": {},
          "execution_count": 20
        }
      ]
    },
    {
      "cell_type": "code",
      "source": [
        "#too many unique value so it is better to drop it\n",
        "df= df.drop('address', axis=1)"
      ],
      "metadata": {
        "id": "jfUB9BpljYfd"
      },
      "execution_count": 21,
      "outputs": []
    },
    {
      "cell_type": "code",
      "source": [
        "df['city'].describe()"
      ],
      "metadata": {
        "colab": {
          "base_uri": "https://localhost:8080/"
        },
        "id": "SNN3lVtChies",
        "outputId": "b69cb344-4b1a-4892-a3e4-eb9392d72ee8"
      },
      "execution_count": 22,
      "outputs": [
        {
          "output_type": "execute_result",
          "data": {
            "text/plain": [
              "count                    239\n",
              "unique                    36\n",
              "top       Portland, OR 97229\n",
              "freq                      26\n",
              "Name: city, dtype: object"
            ]
          },
          "metadata": {},
          "execution_count": 22
        }
      ]
    },
    {
      "cell_type": "code",
      "source": [
        "df['Zip Code'].describe()"
      ],
      "metadata": {
        "colab": {
          "base_uri": "https://localhost:8080/"
        },
        "id": "tdUe4geohnqy",
        "outputId": "b2a53cfb-517b-4749-d60d-efa75e1eb4bc"
      },
      "execution_count": 23,
      "outputs": [
        {
          "output_type": "execute_result",
          "data": {
            "text/plain": [
              "count       239\n",
              "unique       33\n",
              "top       97229\n",
              "freq         26\n",
              "Name: Zip Code, dtype: object"
            ]
          },
          "metadata": {},
          "execution_count": 23
        }
      ]
    },
    {
      "cell_type": "code",
      "source": [
        "df['url'].describe()"
      ],
      "metadata": {
        "colab": {
          "base_uri": "https://localhost:8080/"
        },
        "id": "U-jcNrRLvQue",
        "outputId": "a4cf675c-d19b-45b8-afac-e0e6ac656af5"
      },
      "execution_count": 24,
      "outputs": [
        {
          "output_type": "execute_result",
          "data": {
            "text/plain": [
              "count                                                   239\n",
              "unique                                                  237\n",
              "top       https://www.redfin.com/OR/Portland/3962-N-Mont...\n",
              "freq                                                      2\n",
              "Name: url, dtype: object"
            ]
          },
          "metadata": {},
          "execution_count": 24
        }
      ]
    },
    {
      "cell_type": "code",
      "source": [
        "#too many unique value and not useful so it is better to drop it\n",
        "df= df.drop('url', axis=1)"
      ],
      "metadata": {
        "id": "jmnPr2YSvh-9"
      },
      "execution_count": 25,
      "outputs": []
    },
    {
      "cell_type": "code",
      "source": [
        "plt.scatter(x=df['city'], y=df['Zip Code'], \n",
        "            color=\"orange\", edgecolors=\"#000000\", linewidths=0.5);\n",
        "plt.xlabel(\"City\"); plt.ylabel(\"Zip Code\");"
      ],
      "metadata": {
        "colab": {
          "base_uri": "https://localhost:8080/",
          "height": 279
        },
        "id": "Ijh1mfTklAH5",
        "outputId": "abe00d2c-8845-4f69-eaed-a577f806ad15"
      },
      "execution_count": 26,
      "outputs": [
        {
          "output_type": "display_data",
          "data": {
            "text/plain": [
              "<Figure size 432x288 with 1 Axes>"
            ],
            "image/png": "[encoded data removed]"
          },
          "metadata": {
            "needs_background": "light"
          }
        }
      ]
    },
    {
      "cell_type": "code",
      "source": [
        "# Zip code and city are higly correlated so i will keep the zip code. \n",
        "\n",
        "df= df.drop('city', axis=1)"
      ],
      "metadata": {
        "id": "e3zHkQfQumzh"
      },
      "execution_count": 27,
      "outputs": []
    },
    {
      "cell_type": "code",
      "source": [
        "df['type'].describe()"
      ],
      "metadata": {
        "colab": {
          "base_uri": "https://localhost:8080/"
        },
        "id": "gqb2YCv7jzuq",
        "outputId": "e228857b-cf71-49da-a47c-c214ade81666"
      },
      "execution_count": 28,
      "outputs": [
        {
          "output_type": "execute_result",
          "data": {
            "text/plain": [
              "count                           239\n",
              "unique                            6\n",
              "top       Single Family Residential\n",
              "freq                            204\n",
              "Name: type, dtype: object"
            ]
          },
          "metadata": {},
          "execution_count": 28
        }
      ]
    },
    {
      "cell_type": "code",
      "source": [
        "display(df.head())"
      ],
      "metadata": {
        "colab": {
          "base_uri": "https://localhost:8080/",
          "height": 206
        },
        "id": "WY-1P6i2uwob",
        "outputId": "cffafa55-cca9-4d22-8904-8f0b21cd2b24"
      },
      "execution_count": 29,
      "outputs": [
        {
          "output_type": "display_data",
          "data": {
            "text/plain": [
              "    price  bed  bath    sqft                       type  year_built  \\\n",
              "0  369000  2.0   1.0   748.0  Single Family Residential      1951.0   \n",
              "1  716000  3.0   1.5  2451.0  Single Family Residential      1889.0   \n",
              "2  560000  3.0   2.0  1909.0  Single Family Residential      1986.0   \n",
              "3  513000  2.0   1.0  1707.0  Single Family Residential      1925.0   \n",
              "4  950000  5.0   3.0  2876.0  Single Family Residential      1956.0   \n",
              "\n",
              "   est_price  price_per_sqft Zip Code  \n",
              "0     370963           493.0    97206  \n",
              "1     706940           292.0    97214  \n",
              "2     573623           293.0    97219  \n",
              "3     493870           301.0    97206  \n",
              "4     900768           330.0    97225  "
            ],
            "text/html": [
              "\n",
              "  <div id=\"df-0f1e17f6-eb51-4add-b112-5fd6018b69ae\">\n",
              "    <div class=\"colab-df-container\">\n",
              "      <div>\n",
              "<style scoped>\n",
              "    .dataframe tbody tr th:only-of-type {\n",
              "        vertical-align: middle;\n",
              "    }\n",
              "\n",
              "    .dataframe tbody tr th {\n",
              "        vertical-align: top;\n",
              "    }\n",
              "\n",
              "    .dataframe thead th {\n",
              "        text-align: right;\n",
              "    }\n",
              "</style>\n",
              "<table border=\"1\" class=\"dataframe\">\n",
              "  <thead>\n",
              "    <tr style=\"text-align: right;\">\n",
              "      <th></th>\n",
              "      <th>price</th>\n",
              "      <th>bed</th>\n",
              "      <th>bath</th>\n",
              "      <th>sqft</th>\n",
              "      <th>type</th>\n",
              "      <th>year_built</th>\n",
              "      <th>est_price</th>\n",
              "      <th>price_per_sqft</th>\n",
              "      <th>Zip Code</th>\n",
              "    </tr>\n",
              "  </thead>\n",
              "  <tbody>\n",
              "    <tr>\n",
              "      <th>0</th>\n",
              "      <td>369000</td>\n",
              "      <td>2.0</td>\n",
              "      <td>1.0</td>\n",
              "      <td>748.0</td>\n",
              "      <td>Single Family Residential</td>\n",
              "      <td>1951.0</td>\n",
              "      <td>370963</td>\n",
              "      <td>493.0</td>\n",
              "      <td>97206</td>\n",
              "    </tr>\n",
              "    <tr>\n",
              "      <th>1</th>\n",
              "      <td>716000</td>\n",
              "      <td>3.0</td>\n",
              "      <td>1.5</td>\n",
              "      <td>2451.0</td>\n",
              "      <td>Single Family Residential</td>\n",
              "      <td>1889.0</td>\n",
              "      <td>706940</td>\n",
              "      <td>292.0</td>\n",
              "      <td>97214</td>\n",
              "    </tr>\n",
              "    <tr>\n",
              "      <th>2</th>\n",
              "      <td>560000</td>\n",
              "      <td>3.0</td>\n",
              "      <td>2.0</td>\n",
              "      <td>1909.0</td>\n",
              "      <td>Single Family Residential</td>\n",
              "      <td>1986.0</td>\n",
              "      <td>573623</td>\n",
              "      <td>293.0</td>\n",
              "      <td>97219</td>\n",
              "    </tr>\n",
              "    <tr>\n",
              "      <th>3</th>\n",
              "      <td>513000</td>\n",
              "      <td>2.0</td>\n",
              "      <td>1.0</td>\n",
              "      <td>1707.0</td>\n",
              "      <td>Single Family Residential</td>\n",
              "      <td>1925.0</td>\n",
              "      <td>493870</td>\n",
              "      <td>301.0</td>\n",
              "      <td>97206</td>\n",
              "    </tr>\n",
              "    <tr>\n",
              "      <th>4</th>\n",
              "      <td>950000</td>\n",
              "      <td>5.0</td>\n",
              "      <td>3.0</td>\n",
              "      <td>2876.0</td>\n",
              "      <td>Single Family Residential</td>\n",
              "      <td>1956.0</td>\n",
              "      <td>900768</td>\n",
              "      <td>330.0</td>\n",
              "      <td>97225</td>\n",
              "    </tr>\n",
              "  </tbody>\n",
              "</table>\n",
              "</div>\n",
              "      <button class=\"colab-df-convert\" onclick=\"convertToInteractive('df-0f1e17f6-eb51-4add-b112-5fd6018b69ae')\"\n",
              "              title=\"Convert this dataframe to an interactive table.\"\n",
              "              style=\"display:none;\">\n",
              "        \n",
              "  <svg xmlns=\"http://www.w3.org/2000/svg\" height=\"24px\"viewBox=\"0 0 24 24\"\n",
              "       width=\"24px\">\n",
              "    <path d=\"M0 0h24v24H0V0z\" fill=\"none\"/>\n",
              "    <path d=\"M18.56 5.44l.94 2.06.94-2.06 2.06-.94-2.06-.94-.94-2.06-.94 2.06-2.06.94zm-11 1L8.5 8.5l.94-2.06 2.06-.94-2.06-.94L8.5 2.5l-.94 2.06-2.06.94zm10 10l.94 2.06.94-2.06 2.06-.94-2.06-.94-.94-2.06-.94 2.06-2.06.94z\"/><path d=\"M17.41 7.96l-1.37-1.37c-.4-.4-.92-.59-1.43-.59-.52 0-1.04.2-1.43.59L10.3 9.45l-7.72 7.72c-.78.78-.78 2.05 0 2.83L4 21.41c.39.39.9.59 1.41.59.51 0 1.02-.2 1.41-.59l7.78-7.78 2.81-2.81c.8-.78.8-2.07 0-2.86zM5.41 20L4 18.59l7.72-7.72 1.47 1.35L5.41 20z\"/>\n",
              "  </svg>\n",
              "      </button>\n",
              "      \n",
              "  <style>\n",
              "    .colab-df-container {\n",
              "      display:flex;\n",
              "      flex-wrap:wrap;\n",
              "      gap: 12px;\n",
              "    }\n",
              "\n",
              "    .colab-df-convert {\n",
              "      background-color: #E8F0FE;\n",
              "      border: none;\n",
              "      border-radius: 50%;\n",
              "      cursor: pointer;\n",
              "      display: none;\n",
              "      fill: #1967D2;\n",
              "      height: 32px;\n",
              "      padding: 0 0 0 0;\n",
              "      width: 32px;\n",
              "    }\n",
              "\n",
              "    .colab-df-convert:hover {\n",
              "      background-color: #E2EBFA;\n",
              "      box-shadow: 0px 1px 2px rgba(60, 64, 67, 0.3), 0px 1px 3px 1px rgba(60, 64, 67, 0.15);\n",
              "      fill: #174EA6;\n",
              "    }\n",
              "\n",
              "    [theme=dark] .colab-df-convert {\n",
              "      background-color: #3B4455;\n",
              "      fill: #D2E3FC;\n",
              "    }\n",
              "\n",
              "    [theme=dark] .colab-df-convert:hover {\n",
              "      background-color: #434B5C;\n",
              "      box-shadow: 0px 1px 3px 1px rgba(0, 0, 0, 0.15);\n",
              "      filter: drop-shadow(0px 1px 2px rgba(0, 0, 0, 0.3));\n",
              "      fill: #FFFFFF;\n",
              "    }\n",
              "  </style>\n",
              "\n",
              "      <script>\n",
              "        const buttonEl =\n",
              "          document.querySelector('#df-0f1e17f6-eb51-4add-b112-5fd6018b69ae button.colab-df-convert');\n",
              "        buttonEl.style.display =\n",
              "          google.colab.kernel.accessAllowed ? 'block' : 'none';\n",
              "\n",
              "        async function convertToInteractive(key) {\n",
              "          const element = document.querySelector('#df-0f1e17f6-eb51-4add-b112-5fd6018b69ae');\n",
              "          const dataTable =\n",
              "            await google.colab.kernel.invokeFunction('convertToInteractive',\n",
              "                                                     [key], {});\n",
              "          if (!dataTable) return;\n",
              "\n",
              "          const docLinkHtml = 'Like what you see? Visit the ' +\n",
              "            '<a target=\"_blank\" href=https://colab.research.google.com/notebooks/data_table.ipynb>data table notebook</a>'\n",
              "            + ' to learn more about interactive tables.';\n",
              "          element.innerHTML = '';\n",
              "          dataTable['output_type'] = 'display_data';\n",
              "          await google.colab.output.renderOutput(dataTable, element);\n",
              "          const docLink = document.createElement('div');\n",
              "          docLink.innerHTML = docLinkHtml;\n",
              "          element.appendChild(docLink);\n",
              "        }\n",
              "      </script>\n",
              "    </div>\n",
              "  </div>\n",
              "  "
            ]
          },
          "metadata": {}
        }
      ]
    },
    {
      "cell_type": "code",
      "source": [
        "# need only the price \n",
        "df1=df.drop('est_price', axis=1)"
      ],
      "metadata": {
        "id": "EtwkjF3Swc6p"
      },
      "execution_count": 30,
      "outputs": []
    },
    {
      "cell_type": "code",
      "source": [
        "#one hot-encoding\n",
        "df1 = pd.get_dummies(df1)"
      ],
      "metadata": {
        "id": "K-lln-4gzEZ8"
      },
      "execution_count": 31,
      "outputs": []
    },
    {
      "cell_type": "code",
      "source": [
        "display(df1.head())"
      ],
      "metadata": {
        "colab": {
          "base_uri": "https://localhost:8080/",
          "height": 334
        },
        "id": "MXIVmZRwzI62",
        "outputId": "43341ea6-3f59-458e-9243-db049c68793d"
      },
      "execution_count": 32,
      "outputs": [
        {
          "output_type": "display_data",
          "data": {
            "text/plain": [
              "    price  bed  bath    sqft  year_built  price_per_sqft  type_Condo  \\\n",
              "0  369000  2.0   1.0   748.0      1951.0           493.0           0   \n",
              "1  716000  3.0   1.5  2451.0      1889.0           292.0           0   \n",
              "2  560000  3.0   2.0  1909.0      1986.0           293.0           0   \n",
              "3  513000  2.0   1.0  1707.0      1925.0           301.0           0   \n",
              "4  950000  5.0   3.0  2876.0      1956.0           330.0           0   \n",
              "\n",
              "   type_Mobile/Manufactured Home  type_Multi-Family (2-4 Unit)  \\\n",
              "0                              0                             0   \n",
              "1                              0                             0   \n",
              "2                              0                             0   \n",
              "3                              0                             0   \n",
              "4                              0                             0   \n",
              "\n",
              "   type_Single Family Residential  ...  Zip Code_97225  Zip Code_97227  \\\n",
              "0                               1  ...               0               0   \n",
              "1                               1  ...               0               0   \n",
              "2                               1  ...               0               0   \n",
              "3                               1  ...               0               0   \n",
              "4                               1  ...               1               0   \n",
              "\n",
              "   Zip Code_97229  Zip Code_97230  Zip Code_97232  Zip Code_97233  \\\n",
              "0               0               0               0               0   \n",
              "1               0               0               0               0   \n",
              "2               0               0               0               0   \n",
              "3               0               0               0               0   \n",
              "4               0               0               0               0   \n",
              "\n",
              "   Zip Code_97236  Zip Code_97239  Zip Code_97266  Zip Code_97267  \n",
              "0               0               0               0               0  \n",
              "1               0               0               0               0  \n",
              "2               0               0               0               0  \n",
              "3               0               0               0               0  \n",
              "4               0               0               0               0  \n",
              "\n",
              "[5 rows x 45 columns]"
            ],
            "text/html": [
              "\n",
              "  <div id=\"df-2b558df7-9ca3-4b1b-abef-e767f00dec3b\">\n",
              "    <div class=\"colab-df-container\">\n",
              "      <div>\n",
              "<style scoped>\n",
              "    .dataframe tbody tr th:only-of-type {\n",
              "        vertical-align: middle;\n",
              "    }\n",
              "\n",
              "    .dataframe tbody tr th {\n",
              "        vertical-align: top;\n",
              "    }\n",
              "\n",
              "    .dataframe thead th {\n",
              "        text-align: right;\n",
              "    }\n",
              "</style>\n",
              "<table border=\"1\" class=\"dataframe\">\n",
              "  <thead>\n",
              "    <tr style=\"text-align: right;\">\n",
              "      <th></th>\n",
              "      <th>price</th>\n",
              "      <th>bed</th>\n",
              "      <th>bath</th>\n",
              "      <th>sqft</th>\n",
              "      <th>year_built</th>\n",
              "      <th>price_per_sqft</th>\n",
              "      <th>type_Condo</th>\n",
              "      <th>type_Mobile/Manufactured Home</th>\n",
              "      <th>type_Multi-Family (2-4 Unit)</th>\n",
              "      <th>type_Single Family Residential</th>\n",
              "      <th>...</th>\n",
              "      <th>Zip Code_97225</th>\n",
              "      <th>Zip Code_97227</th>\n",
              "      <th>Zip Code_97229</th>\n",
              "      <th>Zip Code_97230</th>\n",
              "      <th>Zip Code_97232</th>\n",
              "      <th>Zip Code_97233</th>\n",
              "      <th>Zip Code_97236</th>\n",
              "      <th>Zip Code_97239</th>\n",
              "      <th>Zip Code_97266</th>\n",
              "      <th>Zip Code_97267</th>\n",
              "    </tr>\n",
              "  </thead>\n",
              "  <tbody>\n",
              "    <tr>\n",
              "      <th>0</th>\n",
              "      <td>369000</td>\n",
              "      <td>2.0</td>\n",
              "      <td>1.0</td>\n",
              "      <td>748.0</td>\n",
              "      <td>1951.0</td>\n",
              "      <td>493.0</td>\n",
              "      <td>0</td>\n",
              "      <td>0</td>\n",
              "      <td>0</td>\n",
              "      <td>1</td>\n",
              "      <td>...</td>\n",
              "      <td>0</td>\n",
              "      <td>0</td>\n",
              "      <td>0</td>\n",
              "      <td>0</td>\n",
              "      <td>0</td>\n",
              "      <td>0</td>\n",
              "      <td>0</td>\n",
              "      <td>0</td>\n",
              "      <td>0</td>\n",
              "      <td>0</td>\n",
              "    </tr>\n",
              "    <tr>\n",
              "      <th>1</th>\n",
              "      <td>716000</td>\n",
              "      <td>3.0</td>\n",
              "      <td>1.5</td>\n",
              "      <td>2451.0</td>\n",
              "      <td>1889.0</td>\n",
              "      <td>292.0</td>\n",
              "      <td>0</td>\n",
              "      <td>0</td>\n",
              "      <td>0</td>\n",
              "      <td>1</td>\n",
              "      <td>...</td>\n",
              "      <td>0</td>\n",
              "      <td>0</td>\n",
              "      <td>0</td>\n",
              "      <td>0</td>\n",
              "      <td>0</td>\n",
              "      <td>0</td>\n",
              "      <td>0</td>\n",
              "      <td>0</td>\n",
              "      <td>0</td>\n",
              "      <td>0</td>\n",
              "    </tr>\n",
              "    <tr>\n",
              "      <th>2</th>\n",
              "      <td>560000</td>\n",
              "      <td>3.0</td>\n",
              "      <td>2.0</td>\n",
              "      <td>1909.0</td>\n",
              "      <td>1986.0</td>\n",
              "      <td>293.0</td>\n",
              "      <td>0</td>\n",
              "      <td>0</td>\n",
              "      <td>0</td>\n",
              "      <td>1</td>\n",
              "      <td>...</td>\n",
              "      <td>0</td>\n",
              "      <td>0</td>\n",
              "      <td>0</td>\n",
              "      <td>0</td>\n",
              "      <td>0</td>\n",
              "      <td>0</td>\n",
              "      <td>0</td>\n",
              "      <td>0</td>\n",
              "      <td>0</td>\n",
              "      <td>0</td>\n",
              "    </tr>\n",
              "    <tr>\n",
              "      <th>3</th>\n",
              "      <td>513000</td>\n",
              "      <td>2.0</td>\n",
              "      <td>1.0</td>\n",
              "      <td>1707.0</td>\n",
              "      <td>1925.0</td>\n",
              "      <td>301.0</td>\n",
              "      <td>0</td>\n",
              "      <td>0</td>\n",
              "      <td>0</td>\n",
              "      <td>1</td>\n",
              "      <td>...</td>\n",
              "      <td>0</td>\n",
              "      <td>0</td>\n",
              "      <td>0</td>\n",
              "      <td>0</td>\n",
              "      <td>0</td>\n",
              "      <td>0</td>\n",
              "      <td>0</td>\n",
              "      <td>0</td>\n",
              "      <td>0</td>\n",
              "      <td>0</td>\n",
              "    </tr>\n",
              "    <tr>\n",
              "      <th>4</th>\n",
              "      <td>950000</td>\n",
              "      <td>5.0</td>\n",
              "      <td>3.0</td>\n",
              "      <td>2876.0</td>\n",
              "      <td>1956.0</td>\n",
              "      <td>330.0</td>\n",
              "      <td>0</td>\n",
              "      <td>0</td>\n",
              "      <td>0</td>\n",
              "      <td>1</td>\n",
              "      <td>...</td>\n",
              "      <td>1</td>\n",
              "      <td>0</td>\n",
              "      <td>0</td>\n",
              "      <td>0</td>\n",
              "      <td>0</td>\n",
              "      <td>0</td>\n",
              "      <td>0</td>\n",
              "      <td>0</td>\n",
              "      <td>0</td>\n",
              "      <td>0</td>\n",
              "    </tr>\n",
              "  </tbody>\n",
              "</table>\n",
              "<p>5 rows × 45 columns</p>\n",
              "</div>\n",
              "      <button class=\"colab-df-convert\" onclick=\"convertToInteractive('df-2b558df7-9ca3-4b1b-abef-e767f00dec3b')\"\n",
              "              title=\"Convert this dataframe to an interactive table.\"\n",
              "              style=\"display:none;\">\n",
              "        \n",
              "  <svg xmlns=\"http://www.w3.org/2000/svg\" height=\"24px\"viewBox=\"0 0 24 24\"\n",
              "       width=\"24px\">\n",
              "    <path d=\"M0 0h24v24H0V0z\" fill=\"none\"/>\n",
              "    <path d=\"M18.56 5.44l.94 2.06.94-2.06 2.06-.94-2.06-.94-.94-2.06-.94 2.06-2.06.94zm-11 1L8.5 8.5l.94-2.06 2.06-.94-2.06-.94L8.5 2.5l-.94 2.06-2.06.94zm10 10l.94 2.06.94-2.06 2.06-.94-2.06-.94-.94-2.06-.94 2.06-2.06.94z\"/><path d=\"M17.41 7.96l-1.37-1.37c-.4-.4-.92-.59-1.43-.59-.52 0-1.04.2-1.43.59L10.3 9.45l-7.72 7.72c-.78.78-.78 2.05 0 2.83L4 21.41c.39.39.9.59 1.41.59.51 0 1.02-.2 1.41-.59l7.78-7.78 2.81-2.81c.8-.78.8-2.07 0-2.86zM5.41 20L4 18.59l7.72-7.72 1.47 1.35L5.41 20z\"/>\n",
              "  </svg>\n",
              "      </button>\n",
              "      \n",
              "  <style>\n",
              "    .colab-df-container {\n",
              "      display:flex;\n",
              "      flex-wrap:wrap;\n",
              "      gap: 12px;\n",
              "    }\n",
              "\n",
              "    .colab-df-convert {\n",
              "      background-color: #E8F0FE;\n",
              "      border: none;\n",
              "      border-radius: 50%;\n",
              "      cursor: pointer;\n",
              "      display: none;\n",
              "      fill: #1967D2;\n",
              "      height: 32px;\n",
              "      padding: 0 0 0 0;\n",
              "      width: 32px;\n",
              "    }\n",
              "\n",
              "    .colab-df-convert:hover {\n",
              "      background-color: #E2EBFA;\n",
              "      box-shadow: 0px 1px 2px rgba(60, 64, 67, 0.3), 0px 1px 3px 1px rgba(60, 64, 67, 0.15);\n",
              "      fill: #174EA6;\n",
              "    }\n",
              "\n",
              "    [theme=dark] .colab-df-convert {\n",
              "      background-color: #3B4455;\n",
              "      fill: #D2E3FC;\n",
              "    }\n",
              "\n",
              "    [theme=dark] .colab-df-convert:hover {\n",
              "      background-color: #434B5C;\n",
              "      box-shadow: 0px 1px 3px 1px rgba(0, 0, 0, 0.15);\n",
              "      filter: drop-shadow(0px 1px 2px rgba(0, 0, 0, 0.3));\n",
              "      fill: #FFFFFF;\n",
              "    }\n",
              "  </style>\n",
              "\n",
              "      <script>\n",
              "        const buttonEl =\n",
              "          document.querySelector('#df-2b558df7-9ca3-4b1b-abef-e767f00dec3b button.colab-df-convert');\n",
              "        buttonEl.style.display =\n",
              "          google.colab.kernel.accessAllowed ? 'block' : 'none';\n",
              "\n",
              "        async function convertToInteractive(key) {\n",
              "          const element = document.querySelector('#df-2b558df7-9ca3-4b1b-abef-e767f00dec3b');\n",
              "          const dataTable =\n",
              "            await google.colab.kernel.invokeFunction('convertToInteractive',\n",
              "                                                     [key], {});\n",
              "          if (!dataTable) return;\n",
              "\n",
              "          const docLinkHtml = 'Like what you see? Visit the ' +\n",
              "            '<a target=\"_blank\" href=https://colab.research.google.com/notebooks/data_table.ipynb>data table notebook</a>'\n",
              "            + ' to learn more about interactive tables.';\n",
              "          element.innerHTML = '';\n",
              "          dataTable['output_type'] = 'display_data';\n",
              "          await google.colab.output.renderOutput(dataTable, element);\n",
              "          const docLink = document.createElement('div');\n",
              "          docLink.innerHTML = docLinkHtml;\n",
              "          element.appendChild(docLink);\n",
              "        }\n",
              "      </script>\n",
              "    </div>\n",
              "  </div>\n",
              "  "
            ]
          },
          "metadata": {}
        }
      ]
    },
    {
      "cell_type": "markdown",
      "source": [
        "# Model Building and Evaluation"
      ],
      "metadata": {
        "id": "FYy5bVR00eWO"
      }
    },
    {
      "cell_type": "code",
      "source": [
        "df1.dtypes.value_counts()"
      ],
      "metadata": {
        "colab": {
          "base_uri": "https://localhost:8080/"
        },
        "id": "HE2B8lLx0H6U",
        "outputId": "9bbf39e0-8848-4065-a8e4-42716f6324b5"
      },
      "execution_count": 33,
      "outputs": [
        {
          "output_type": "execute_result",
          "data": {
            "text/plain": [
              "uint8      39\n",
              "float64     5\n",
              "int64       1\n",
              "dtype: int64"
            ]
          },
          "metadata": {},
          "execution_count": 33
        }
      ]
    },
    {
      "cell_type": "code",
      "source": [
        "# lets first check the final dimension of our dataset after the preprocessing step\n",
        "df1.shape"
      ],
      "metadata": {
        "colab": {
          "base_uri": "https://localhost:8080/"
        },
        "id": "FwTLKZQA1P6m",
        "outputId": "bb9ef462-e44e-4c3f-973f-00a8d09f7b9c"
      },
      "execution_count": 34,
      "outputs": [
        {
          "output_type": "execute_result",
          "data": {
            "text/plain": [
              "(239, 45)"
            ]
          },
          "metadata": {},
          "execution_count": 34
        }
      ]
    },
    {
      "cell_type": "code",
      "source": [
        "scaler = StandardScaler()\n",
        "# We need to fit the scaler to our data before transformation\n",
        "df1.loc[:, df1.columns != 'price'] = scaler.fit_transform(df1.loc[:, df1.columns != 'price'])"
      ],
      "metadata": {
        "id": "3ZiqYwkn1e7P"
      },
      "execution_count": 35,
      "outputs": []
    },
    {
      "cell_type": "code",
      "source": [
        "X_train, X_test, y_train, y_test = train_test_split(\n",
        "    df1.drop('price', axis=1), df1[['price']], \n",
        "    test_size=0.25, random_state=3)"
      ],
      "metadata": {
        "id": "7q9d43oR3-h1"
      },
      "execution_count": 36,
      "outputs": []
    },
    {
      "cell_type": "markdown",
      "source": [
        "\n",
        "We will use GridSearchCV() to search for the best model parameters in a parameter space provided by us. \n",
        " - The parameter \"max_depth\" sets the maximum depth of a tree, \n",
        " \n",
        " -  \"learning_rate\" represents the step size shrinkage used in updating weights,\n",
        " \n",
        " - \"n_estimators\" specifies the number of boosted trees to fit,\n",
        " \n",
        " - \"booster\" determines which booster to use, \n",
        " - \"gamma\" specifies the minimum loss reduction required to make a further partition on a leaf node of the tree, \n",
        " - \"subsample\" is subsample ratio of the training instances; this subsampling will occur once in every boosting iteration, \n",
        " - \"colsample_bytree\" specifies the subsample ratio of columns when constructing each tree, \n",
        " - \"colsample_bylevel\" specifies the subsample ratio of columns for each split, in each level, \n",
        " - \"reg_alpha\" is L1 regularization term, and \n",
        " - \"reg_lambda\" is L2 regularization term.\n",
        " "
      ],
      "metadata": {
        "id": "9AqVAtw12awS"
      }
    },
    {
      "cell_type": "code",
      "source": [
        "parameter_space = \\\n",
        "    {\n",
        "        \"max_depth\": [4, 5, 6],\n",
        "        \"learning_rate\": [0.005, 0.009, 0.01],\n",
        "        \"n_estimators\": [700, 1000, 2500],\n",
        "        \"booster\": [\"gbtree\",],\n",
        "        \"gamma\": [7, 25, 100],\n",
        "        \"subsample\": [0.3, 0.6],\n",
        "        \"colsample_bytree\": [0.5, 0.7],\n",
        "        \"colsample_bylevel\": [0.5, 0.7,],\n",
        "        \"reg_alpha\": [1, 10, 33],\n",
        "        \"reg_lambda\": [1, 3, 10],\n",
        "    }\n",
        "\n",
        "clf = RandomizedSearchCV(XGBRegressor(random_state=3), \n",
        "                         parameter_space, cv=5, n_jobs=4,\n",
        "                         scoring=\"neg_mean_absolute_error\", \n",
        "                         random_state=3, n_iter=10)\n",
        "\n",
        "clf.fit(X_train, y_train)\n",
        "print(\"Best parameters:\")\n",
        "print(clf.best_params_)"
      ],
      "metadata": {
        "colab": {
          "base_uri": "https://localhost:8080/"
        },
        "id": "dMl63-Us7igu",
        "outputId": "f00f8420-43e3-46b6-ff20-95112b047c1f"
      },
      "execution_count": 38,
      "outputs": [
        {
          "output_type": "stream",
          "name": "stdout",
          "text": [
            "Best parameters:\n",
            "{'subsample': 0.6, 'reg_lambda': 10, 'reg_alpha': 10, 'n_estimators': 2500, 'max_depth': 4, 'learning_rate': 0.009, 'gamma': 7, 'colsample_bytree': 0.7, 'colsample_bylevel': 0.5, 'booster': 'gbtree'}\n"
          ]
        }
      ]
    },
    {
      "cell_type": "code",
      "source": [
        "model = XGBRegressor(**clf.best_params_)"
      ],
      "metadata": {
        "id": "EmgfhL0i4xf5"
      },
      "execution_count": 40,
      "outputs": []
    },
    {
      "cell_type": "code",
      "source": [
        "model.fit(X_train, y_train);"
      ],
      "metadata": {
        "id": "uv7cwkp642R3"
      },
      "execution_count": 41,
      "outputs": []
    },
    {
      "cell_type": "code",
      "source": [
        "y_pred = model.predict(X_test)\n",
        "xgb_mae = mean_absolute_error(y_test, y_pred)\n",
        "print(\"XGBoost MAE =\", xgb_mae)"
      ],
      "metadata": {
        "colab": {
          "base_uri": "https://localhost:8080/"
        },
        "id": "n4VWqKxM5N3b",
        "outputId": "c2c41b3c-0237-4fcb-c82a-825b639f9108"
      },
      "execution_count": 43,
      "outputs": [
        {
          "output_type": "stream",
          "name": "stdout",
          "text": [
            "XGBoost MAE = 61050.72213541667\n"
          ]
        }
      ]
    },
    {
      "cell_type": "markdown",
      "source": [
        "We chose the mean absolute error (MAE) as our performance metric to evaluate and compare models. MAE presents a value that is easy to understand; it shows the average value of model error. For example, for our XGBoost model, its MAE is 61,050.72 which means that on average, XGBoost will predict a value that is bigger or smaller than the true value by 61,050.72. Now to understand how good this MAE is, we need to know the range and distribution of the data. In our case, we need to see the values of the target variable price which contains the actual house prices."
      ],
      "metadata": {
        "id": "dVBvmtFg8HEi"
      }
    },
    {
      "cell_type": "code",
      "source": [
        "y_train.describe(include=[np.number])"
      ],
      "metadata": {
        "colab": {
          "base_uri": "https://localhost:8080/",
          "height": 300
        },
        "id": "c0lcm6RE84cP",
        "outputId": "5656d82c-27f6-457c-9c8a-5e9077d8734f"
      },
      "execution_count": 47,
      "outputs": [
        {
          "output_type": "execute_result",
          "data": {
            "text/plain": [
              "              price\n",
              "count  1.790000e+02\n",
              "mean   6.073578e+05\n",
              "std    3.637366e+05\n",
              "min    7.998500e+04\n",
              "25%    4.159400e+05\n",
              "50%    5.360000e+05\n",
              "75%    6.965000e+05\n",
              "max    3.577600e+06"
            ],
            "text/html": [
              "\n",
              "  <div id=\"df-d3e94ca6-bad9-4caa-bbaf-71ef2970f7aa\">\n",
              "    <div class=\"colab-df-container\">\n",
              "      <div>\n",
              "<style scoped>\n",
              "    .dataframe tbody tr th:only-of-type {\n",
              "        vertical-align: middle;\n",
              "    }\n",
              "\n",
              "    .dataframe tbody tr th {\n",
              "        vertical-align: top;\n",
              "    }\n",
              "\n",
              "    .dataframe thead th {\n",
              "        text-align: right;\n",
              "    }\n",
              "</style>\n",
              "<table border=\"1\" class=\"dataframe\">\n",
              "  <thead>\n",
              "    <tr style=\"text-align: right;\">\n",
              "      <th></th>\n",
              "      <th>price</th>\n",
              "    </tr>\n",
              "  </thead>\n",
              "  <tbody>\n",
              "    <tr>\n",
              "      <th>count</th>\n",
              "      <td>1.790000e+02</td>\n",
              "    </tr>\n",
              "    <tr>\n",
              "      <th>mean</th>\n",
              "      <td>6.073578e+05</td>\n",
              "    </tr>\n",
              "    <tr>\n",
              "      <th>std</th>\n",
              "      <td>3.637366e+05</td>\n",
              "    </tr>\n",
              "    <tr>\n",
              "      <th>min</th>\n",
              "      <td>7.998500e+04</td>\n",
              "    </tr>\n",
              "    <tr>\n",
              "      <th>25%</th>\n",
              "      <td>4.159400e+05</td>\n",
              "    </tr>\n",
              "    <tr>\n",
              "      <th>50%</th>\n",
              "      <td>5.360000e+05</td>\n",
              "    </tr>\n",
              "    <tr>\n",
              "      <th>75%</th>\n",
              "      <td>6.965000e+05</td>\n",
              "    </tr>\n",
              "    <tr>\n",
              "      <th>max</th>\n",
              "      <td>3.577600e+06</td>\n",
              "    </tr>\n",
              "  </tbody>\n",
              "</table>\n",
              "</div>\n",
              "      <button class=\"colab-df-convert\" onclick=\"convertToInteractive('df-d3e94ca6-bad9-4caa-bbaf-71ef2970f7aa')\"\n",
              "              title=\"Convert this dataframe to an interactive table.\"\n",
              "              style=\"display:none;\">\n",
              "        \n",
              "  <svg xmlns=\"http://www.w3.org/2000/svg\" height=\"24px\"viewBox=\"0 0 24 24\"\n",
              "       width=\"24px\">\n",
              "    <path d=\"M0 0h24v24H0V0z\" fill=\"none\"/>\n",
              "    <path d=\"M18.56 5.44l.94 2.06.94-2.06 2.06-.94-2.06-.94-.94-2.06-.94 2.06-2.06.94zm-11 1L8.5 8.5l.94-2.06 2.06-.94-2.06-.94L8.5 2.5l-.94 2.06-2.06.94zm10 10l.94 2.06.94-2.06 2.06-.94-2.06-.94-.94-2.06-.94 2.06-2.06.94z\"/><path d=\"M17.41 7.96l-1.37-1.37c-.4-.4-.92-.59-1.43-.59-.52 0-1.04.2-1.43.59L10.3 9.45l-7.72 7.72c-.78.78-.78 2.05 0 2.83L4 21.41c.39.39.9.59 1.41.59.51 0 1.02-.2 1.41-.59l7.78-7.78 2.81-2.81c.8-.78.8-2.07 0-2.86zM5.41 20L4 18.59l7.72-7.72 1.47 1.35L5.41 20z\"/>\n",
              "  </svg>\n",
              "      </button>\n",
              "      \n",
              "  <style>\n",
              "    .colab-df-container {\n",
              "      display:flex;\n",
              "      flex-wrap:wrap;\n",
              "      gap: 12px;\n",
              "    }\n",
              "\n",
              "    .colab-df-convert {\n",
              "      background-color: #E8F0FE;\n",
              "      border: none;\n",
              "      border-radius: 50%;\n",
              "      cursor: pointer;\n",
              "      display: none;\n",
              "      fill: #1967D2;\n",
              "      height: 32px;\n",
              "      padding: 0 0 0 0;\n",
              "      width: 32px;\n",
              "    }\n",
              "\n",
              "    .colab-df-convert:hover {\n",
              "      background-color: #E2EBFA;\n",
              "      box-shadow: 0px 1px 2px rgba(60, 64, 67, 0.3), 0px 1px 3px 1px rgba(60, 64, 67, 0.15);\n",
              "      fill: #174EA6;\n",
              "    }\n",
              "\n",
              "    [theme=dark] .colab-df-convert {\n",
              "      background-color: #3B4455;\n",
              "      fill: #D2E3FC;\n",
              "    }\n",
              "\n",
              "    [theme=dark] .colab-df-convert:hover {\n",
              "      background-color: #434B5C;\n",
              "      box-shadow: 0px 1px 3px 1px rgba(0, 0, 0, 0.15);\n",
              "      filter: drop-shadow(0px 1px 2px rgba(0, 0, 0, 0.3));\n",
              "      fill: #FFFFFF;\n",
              "    }\n",
              "  </style>\n",
              "\n",
              "      <script>\n",
              "        const buttonEl =\n",
              "          document.querySelector('#df-d3e94ca6-bad9-4caa-bbaf-71ef2970f7aa button.colab-df-convert');\n",
              "        buttonEl.style.display =\n",
              "          google.colab.kernel.accessAllowed ? 'block' : 'none';\n",
              "\n",
              "        async function convertToInteractive(key) {\n",
              "          const element = document.querySelector('#df-d3e94ca6-bad9-4caa-bbaf-71ef2970f7aa');\n",
              "          const dataTable =\n",
              "            await google.colab.kernel.invokeFunction('convertToInteractive',\n",
              "                                                     [key], {});\n",
              "          if (!dataTable) return;\n",
              "\n",
              "          const docLinkHtml = 'Like what you see? Visit the ' +\n",
              "            '<a target=\"_blank\" href=https://colab.research.google.com/notebooks/data_table.ipynb>data table notebook</a>'\n",
              "            + ' to learn more about interactive tables.';\n",
              "          element.innerHTML = '';\n",
              "          dataTable['output_type'] = 'display_data';\n",
              "          await google.colab.output.renderOutput(dataTable, element);\n",
              "          const docLink = document.createElement('div');\n",
              "          docLink.innerHTML = docLinkHtml;\n",
              "          element.appendChild(docLink);\n",
              "        }\n",
              "      </script>\n",
              "    </div>\n",
              "  </div>\n",
              "  "
            ]
          },
          "metadata": {},
          "execution_count": 47
        }
      ]
    },
    {
      "cell_type": "markdown",
      "source": [
        "We can see that the mean is 607,357.82 and the median is 536,000. We can see also that the first quartile is 415,940; this means that 75% of the data is larger than this number.Now looking at XGBoost error of 61,050.72, we can say that an error of about 61,000 is okay but still large for us for data whose mean is 607,357.82 and whose 75% of it is larger than 415,940. But will try to improved by constructing an neural network using the image house and those text data."
      ],
      "metadata": {
        "id": "5xl-Nk4h9UDP"
      }
    },
    {
      "cell_type": "markdown",
      "source": [
        "# Feature Importances"
      ],
      "metadata": {
        "id": "nDXToundBeGY"
      }
    },
    {
      "cell_type": "code",
      "source": [
        "\n",
        "xgb_feature_importances = model.feature_importances_\n",
        "xgb_feature_importances = pd.Series(\n",
        "    xgb_feature_importances, index=X_train.columns.values\n",
        "    ).sort_values(ascending=False).head(15)\n",
        "\n",
        "fig, ax = plt.subplots(figsize=(7, 5))\n",
        "sns.barplot(x=xgb_feature_importances, \n",
        "            y=xgb_feature_importances.index, \n",
        "            color=\"#003f5c\");\n",
        "plt.xlabel('Feature Importance');\n",
        "plt.ylabel('Feature');"
      ],
      "metadata": {
        "colab": {
          "base_uri": "https://localhost:8080/",
          "height": 334
        },
        "id": "FYluimGC8GlN",
        "outputId": "6f0e613a-03f2-4ac0-8b6e-b4a03b20d3b9"
      },
      "execution_count": 46,
      "outputs": [
        {
          "output_type": "display_data",
          "data": {
            "text/plain": [
              "<Figure size 504x360 with 1 Axes>"
            ],
            "image/png": "[encoded data removed]"
          },
          "metadata": {
            "needs_background": "light"
          }
        }
      ]
    },
    {
      "cell_type": "markdown",
      "source": [
        "we can see that Squarefeet,price per squarefeet, type mobile/manufactured home and bath respectively were the most important features to predict the house price."
      ],
      "metadata": {
        "id": "ckUO0Q_zAWMe"
      }
    }
  ]
}